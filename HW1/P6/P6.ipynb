{
 "cells": [
  {
   "cell_type": "code",
   "execution_count": 1,
   "metadata": {
    "collapsed": true
   },
   "outputs": [],
   "source": [
    "import pyspark\n",
    "import re\n",
    "import random\n",
    "sc = pyspark.SparkContext(appName=\"P6\")"
   ]
  },
  {
   "cell_type": "code",
   "execution_count": 2,
   "metadata": {
    "collapsed": true
   },
   "outputs": [],
   "source": [
    "def splitLine(line):\n",
    "    return line.split()\n",
    "def filter_word(word):\n",
    "    not_numbers = len(re.sub('[0-9]', \"\", word)) > 0\n",
    "    not_caps_period = len(re.sub('[A-Z]+\\.*', \"\", word)) > 0\n",
    "    return not_numbers and not_caps_period\n",
    "def format_rdd(node, words_list):\n",
    "    index = node[1]\n",
    "    if index < len(words_list) - 2:\n",
    "        return ((node[0], words_list[index+1]), [(words_list[index+2], 1)])\n",
    "    else:\n",
    "        return None\n",
    "def update_hash(word_hash, arr):\n",
    "    for word, count in arr:\n",
    "        if word in word_hash:\n",
    "            word_hash[word] += count\n",
    "        else:\n",
    "            word_hash[word] = count\n",
    "    \n",
    "def reduce_tuples(x, y):\n",
    "    word_hash = {}\n",
    "    update_hash(word_hash, x)\n",
    "    update_hash(word_hash, y)\n",
    "    return word_hash.items()\n",
    "    "
   ]
  },
  {
   "cell_type": "code",
   "execution_count": 5,
   "metadata": {
    "collapsed": false
   },
   "outputs": [
    {
     "data": {
      "text/plain": [
       "904061"
      ]
     },
     "execution_count": 5,
     "metadata": {},
     "output_type": "execute_result"
    }
   ],
   "source": [
    "lines = sc.textFile('Shakespeare.txt')\n",
    "words = lines.flatMap(splitLine)\n",
    "words.count()"
   ]
  },
  {
   "cell_type": "code",
   "execution_count": 6,
   "metadata": {
    "collapsed": false
   },
   "outputs": [
    {
     "data": {
      "text/plain": [
       "829777"
      ]
     },
     "execution_count": 6,
     "metadata": {},
     "output_type": "execute_result"
    }
   ],
   "source": [
    "filtered_words = words.filter(filter_word)\n",
    "filtered_words.count()"
   ]
  },
  {
   "cell_type": "code",
   "execution_count": 7,
   "metadata": {
    "collapsed": false
   },
   "outputs": [
    {
     "data": {
      "text/plain": [
       "u'Project'"
      ]
     },
     "execution_count": 7,
     "metadata": {},
     "output_type": "execute_result"
    }
   ],
   "source": [
    "words_list = filtered_words.collect()\n",
    "words_list[1]"
   ]
  },
  {
   "cell_type": "code",
   "execution_count": 8,
   "metadata": {
    "collapsed": false
   },
   "outputs": [
    {
     "data": {
      "text/plain": [
       "829775"
      ]
     },
     "execution_count": 8,
     "metadata": {},
     "output_type": "execute_result"
    }
   ],
   "source": [
    "indexed_words = filtered_words.zipWithIndex()\n",
    "indexed_words = indexed_words.map(lambda x: format_rdd(x, words_list)).filter(lambda x: x is not None)\n",
    "indexed_words.count()"
   ]
  },
  {
   "cell_type": "code",
   "execution_count": 9,
   "metadata": {
    "collapsed": false
   },
   "outputs": [],
   "source": [
    "word_model = indexed_words.reduceByKey(reduce_tuples)\n",
    "word_model = word_model.sortByKey()"
   ]
  },
  {
   "cell_type": "code",
   "execution_count": 10,
   "metadata": {
    "collapsed": false,
    "scrolled": true
   },
   "outputs": [
    {
     "data": {
      "text/plain": [
       "[((u'\"', u'\"'),\n",
       "  [(u'DEMETRIUS,', 1),\n",
       "   (u'DION,', 1),\n",
       "   (u'SELEUCUS,', 1),\n",
       "   (u'BARDOLPH,', 1),\n",
       "   (u'-', 1),\n",
       "   (u'THYREUS,', 1),\n",
       "   (u'DIOMEDES,', 1),\n",
       "   (u'BEAU,', 1),\n",
       "   (u'LUCIUS,', 1),\n",
       "   (u'GREY,', 1),\n",
       "   (u'LIGARIUS,', 1),\n",
       "   (u'NYM,', 1),\n",
       "   (u'CLEOPATRA,', 1),\n",
       "   (u'LORENZO,', 1),\n",
       "   (u'CLAUDIO,', 1),\n",
       "   (u'PROCULEIUS,', 1),\n",
       "   (u'PINDARUS,', 1),\n",
       "   (u'\"', 110),\n",
       "   (u'STRATO,', 1),\n",
       "   (u'BATES,', 1),\n",
       "   (u'PHILO,', 1),\n",
       "   (u'CINNA,', 1),\n",
       "   (u'SIXTH,', 1),\n",
       "   (u'DUMAIN,', 1),\n",
       "   (u'CLEOMENES,', 1),\n",
       "   (u'DERCETAS,', 1),\n",
       "   (u'KATHARINE,', 1),\n",
       "   (u'EROS,', 1),\n",
       "   (u'BRUTUS,', 1),\n",
       "   (u'TOUCHSTONE,', 1),\n",
       "   (u'ANTONIO,', 2),\n",
       "   (u'PERCY,', 1),\n",
       "   (u'EXETER,', 1),\n",
       "   (u'MENAS,', 1),\n",
       "   (u'DARDANIUS,', 1),\n",
       "   (u'DOLABELLA,', 1),\n",
       "   (u'ORLANDO,', 1),\n",
       "   (u'WILLIAMS,', 1),\n",
       "   (u'ERPINGHAM,', 1),\n",
       "   (u'SCARUS,', 1),\n",
       "   (u'ARMADO,', 1),\n",
       "   (u'ARTEMIDORUS,', 1),\n",
       "   (u'MONTJOY,', 1),\n",
       "   (u'FLUELLEN,', 1),\n",
       "   (u'GALLUS,', 1),\n",
       "   (u'VOLUMNIUS,', 1),\n",
       "   (u'VARRIUS,', 1),\n",
       "   (u'GRATIANO,', 1),\n",
       "   (u'MAECENAS,', 1),\n",
       "   (u'CALPURNIA,', 1),\n",
       "   (u'TITINIUS,', 1),\n",
       "   (u'Officers,', 1),\n",
       "   (u'POLIXENES,', 1),\n",
       "   (u'JAMY,', 1),\n",
       "   (u'CIMBER,', 1),\n",
       "   (u'MESSALA,', 1),\n",
       "   (u'PORTIA,', 1),\n",
       "   (u'TAURUS,', 1),\n",
       "   (u'MACMORRIS,', 1),\n",
       "   (u'ADAM,', 1),\n",
       "   (u'BOYET,', 1),\n",
       "   (u'PISTOL,', 1)]),\n",
       " ((u'\"', u'-'), [(u'\"', 1)]),\n",
       " ((u'\"', u'ADAM,'), [(u'servant', 1)]),\n",
       " ((u'\"', u'ANTONIO,'), [(u'a', 1), (u'father', 1)]),\n",
       " ((u'\"', u'ARMADO,'), [(u'fantastical', 1)])]"
      ]
     },
     "execution_count": 10,
     "metadata": {},
     "output_type": "execute_result"
    }
   ],
   "source": [
    "word_model.take(5)"
   ]
  },
  {
   "cell_type": "code",
   "execution_count": 11,
   "metadata": {
    "collapsed": false,
    "scrolled": false
   },
   "outputs": [
    {
     "data": {
      "text/plain": [
       "[[(u'a', 1),\n",
       "  (u'be', 1),\n",
       "  (u'his', 1),\n",
       "  (u'that', 1),\n",
       "  (u'this', 1),\n",
       "  (u'Mortimer', 1),\n",
       "  (u'it', 3),\n",
       "  (u'the', 9),\n",
       "  (u'my', 2),\n",
       "  (u'your', 1),\n",
       "  (u'he', 1)]]"
      ]
     },
     "execution_count": 11,
     "metadata": {},
     "output_type": "execute_result"
    }
   ],
   "source": [
    "word_model.map(lambda x: x).lookup((u'Now', u'is'))"
   ]
  },
  {
   "cell_type": "code",
   "execution_count": 14,
   "metadata": {
    "collapsed": false
   },
   "outputs": [],
   "source": [
    "def find_next(words):\n",
    "    choice = random.randint(1, sum(map(lambda x: x[1], words)))\n",
    "    count = 0\n",
    "    for word in words:\n",
    "        count += word[1]\n",
    "        if count >= choice:\n",
    "            return word[0]\n",
    "def generate_phrase(num_words, rdd):\n",
    "    phrase = []\n",
    "    rand_sample = rdd.takeSample(True, 1)\n",
    "    phrase.append(rand_sample[0][0][0])\n",
    "    phrase.append(rand_sample[0][0][1])\n",
    "    while len(phrase) < num_words:\n",
    "        lookup = rdd.map(lambda x: x).lookup((phrase[-2], phrase[-1]))\n",
    "        if len(lookup) > 0:\n",
    "            phrase.append(find_next(lookup[0]))\n",
    "        else:\n",
    "            return \" \".join(phrase)\n",
    "    return \" \".join(phrase)"
   ]
  },
  {
   "cell_type": "code",
   "execution_count": 15,
   "metadata": {
    "collapsed": false
   },
   "outputs": [
    {
     "name": "stdout",
     "output_type": "stream",
     "text": [
      "[u\"sight, poor mortal living ghost, Woe's scene, world's shame, grave's due by promise, For which we will hear anon. Egeus,\", u\"lost. Then you have fed upon this quiet life! want work.' 'O my sweet son. Dead life, blind sight, poor\"]\n"
     ]
    }
   ],
   "source": [
    "phrases = []\n",
    "for i in range(0, 2):\n",
    "    phrases.append(generate_phrase(20, word_model))\n",
    "print phrases"
   ]
  },
  {
   "cell_type": "code",
   "execution_count": null,
   "metadata": {
    "collapsed": true
   },
   "outputs": [],
   "source": []
  }
 ],
 "metadata": {
  "kernelspec": {
   "display_name": "Python 2",
   "language": "python",
   "name": "python2"
  },
  "language_info": {
   "codemirror_mode": {
    "name": "ipython",
    "version": 2
   },
   "file_extension": ".py",
   "mimetype": "text/x-python",
   "name": "python",
   "nbconvert_exporter": "python",
   "pygments_lexer": "ipython2",
   "version": "2.7.10"
  }
 },
 "nbformat": 4,
 "nbformat_minor": 0
}
