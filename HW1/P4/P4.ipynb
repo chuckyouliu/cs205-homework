{
 "cells": [
  {
   "cell_type": "code",
   "execution_count": 1,
   "metadata": {
    "collapsed": false
   },
   "outputs": [],
   "source": [
    "from pyspark import SparkContext\n",
    "from pyspark import AccumulatorParam\n",
    "sc = SparkContext(\"local\", \"P4\")"
   ]
  },
  {
   "cell_type": "code",
   "execution_count": 2,
   "metadata": {
    "collapsed": false
   },
   "outputs": [
    {
     "data": {
      "text/plain": [
       "[u'\"FROST, CARMILLA\",\"AA2 35\"']"
      ]
     },
     "execution_count": 2,
     "metadata": {},
     "output_type": "execute_result"
    }
   ],
   "source": [
    "source = sc.textFile(\"source.csv\")\n",
    "source.take(1)"
   ]
  },
  {
   "cell_type": "code",
   "execution_count": 3,
   "metadata": {
    "collapsed": false
   },
   "outputs": [],
   "source": [
    "def comic_KV(x):\n",
    "    K_V = x.split('\",\"')\n",
    "    return (K_V[1][0:-1], [K_V[0][1:]])\n",
    "def node_KV(x):\n",
    "    K_V = x.split('\",\"')\n",
    "    return (K_V[1][0:-1], K_V[0][1:])\n",
    "def get_neighbors(val):\n",
    "    c_n = val[1]\n",
    "    neighbors = c_n[1][:]\n",
    "    neighbors.remove(c_n[0])\n",
    "    return (c_n[0], neighbors)\n",
    "def group_neighbors(x, y):\n",
    "    return set(x) | set(y)\n",
    "\n",
    "nodes = source.map(node_KV)\n",
    "comics = source.map(comic_KV)\n",
    "comics = comics.reduceByKey(lambda x,y: x + y)"
   ]
  },
  {
   "cell_type": "code",
   "execution_count": 4,
   "metadata": {
    "collapsed": false
   },
   "outputs": [],
   "source": [
    "nodes_neighbors = nodes.join(comics).map(get_neighbors).reduceByKey(group_neighbors)\n",
    "sorted_neighbors = nodes_neighbors.sortByKey()"
   ]
  },
  {
   "cell_type": "code",
   "execution_count": 9,
   "metadata": {
    "collapsed": false
   },
   "outputs": [],
   "source": [
    "class DistanceAccumulatorParam(AccumulatorParam):\n",
    "    def zero(self, initialValue):\n",
    "        return initialValue\n",
    "\n",
    "    def addInPlace(self, v1, v2):\n",
    "        for key in v2.keys():\n",
    "            if key not in v1:\n",
    "                v1[key] = v2[key]\n",
    "        return v1\n",
    "    \n",
    "def ss_bfs_accum(rdd, root, diameter = -1):\n",
    "    distance_hash = rdd.context.accumulator({root: 0}, DistanceAccumulatorParam())\n",
    "    next_hop = rdd.lookup(root)[0]\n",
    "    hops = 1\n",
    "    while (hops <= diameter or diameter < 0) and len(next_hop) > 0:\n",
    "        next_rdd = rdd.filter(lambda x: x[0] in next_hop)\n",
    "        next_rdd.foreach(lambda x: distance_hash.add({x[0] : hops}))\n",
    "        next_hop = set(next_rdd.flatMap(lambda x: x[1]).collect()) - set(distance_hash.value.keys())\n",
    "        hops += 1\n",
    "    return distance_hash.value\n",
    "\n",
    "def ss_bfs(rdd, root, diameter = -1):\n",
    "    next_hop = rdd.lookup(root)[0]\n",
    "    distances = {}\n",
    "    hops = 1\n",
    "    while (hops <= diameter or diameter < 0) and len(next_hop) > 0:\n",
    "        for node in next_hop:\n",
    "            if node not in distances:\n",
    "                distances[node] = hops\n",
    "        next_hop = set(rdd.filter(lambda x: x[0] in next_hop).flatMap(lambda x: x[1]).collect()) - set(distances.keys())\n",
    "        hops += 1\n",
    "    return distances"
   ]
  },
  {
   "cell_type": "code",
   "execution_count": 6,
   "metadata": {
    "collapsed": false
   },
   "outputs": [
    {
     "name": "stdout",
     "output_type": "stream",
     "text": [
      "6408\n",
      "7\n",
      "9\n",
      "6408\n",
      "7\n",
      "9\n",
      "6408\n",
      "7\n",
      "9\n",
      "6408\n",
      "7\n",
      "9\n",
      "1 loops, best of 3: 2.81 s per loop\n"
     ]
    }
   ],
   "source": [
    "%%timeit\n",
    "roots = [u'CAPTAIN AMERICA', u'MISS THING/MARY', u'ORWELL']\n",
    "for r in roots:\n",
    "    print len(ss_bfs_accum(sorted_neighbors, r))"
   ]
  },
  {
   "cell_type": "code",
   "execution_count": 10,
   "metadata": {
    "collapsed": false
   },
   "outputs": [
    {
     "name": "stdout",
     "output_type": "stream",
     "text": [
      "6408\n",
      "7\n",
      "9\n",
      "6408\n",
      "7\n",
      "9\n",
      "6408\n",
      "7\n",
      "9\n",
      "6408\n",
      "7\n",
      "9\n",
      "1 loops, best of 3: 1.94 s per loop\n"
     ]
    }
   ],
   "source": [
    "%%timeit\n",
    "roots = [u'CAPTAIN AMERICA', u'MISS THING/MARY', u'ORWELL']\n",
    "for r in roots:\n",
    "    print len(ss_bfs(sorted_neighbors, r))"
   ]
  },
  {
   "cell_type": "code",
   "execution_count": null,
   "metadata": {
    "collapsed": true
   },
   "outputs": [],
   "source": []
  }
 ],
 "metadata": {
  "kernelspec": {
   "display_name": "Python 2",
   "language": "python",
   "name": "python2"
  },
  "language_info": {
   "codemirror_mode": {
    "name": "ipython",
    "version": 2
   },
   "file_extension": ".py",
   "mimetype": "text/x-python",
   "name": "python",
   "nbconvert_exporter": "python",
   "pygments_lexer": "ipython2",
   "version": "2.7.10"
  }
 },
 "nbformat": 4,
 "nbformat_minor": 0
}
